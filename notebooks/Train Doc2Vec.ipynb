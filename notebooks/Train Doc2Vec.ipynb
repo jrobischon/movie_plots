{
 "cells": [
  {
   "cell_type": "markdown",
   "metadata": {},
   "source": [
    "## Train Doc2Vec"
   ]
  },
  {
   "cell_type": "code",
   "execution_count": 1,
   "metadata": {},
   "outputs": [],
   "source": [
    "import pandas as pd\n",
    "import numpy as np\n",
    "import re\n",
    "from random import shuffle\n",
    "import time\n",
    "from nltk.tokenize import TreebankWordTokenizer, sent_tokenize\n",
    "from nltk.stem import WordNetLemmatizer, PorterStemmer\n",
    "from gensim.models import Word2Vec, Doc2Vec\n",
    "from gensim.models.doc2vec import TaggedDocument"
   ]
  },
  {
   "cell_type": "code",
   "execution_count": 2,
   "metadata": {
    "collapsed": true
   },
   "outputs": [],
   "source": [
    "df = pd.read_csv(\"../data/wiki_movie_plots.csv\")"
   ]
  },
  {
   "cell_type": "code",
   "execution_count": 3,
   "metadata": {},
   "outputs": [],
   "source": [
    "# Do some minor preprocessing of Genre and Director\n",
    "def genre_clean(x, tokenizer=TreebankWordTokenizer):\n",
    "    x = x.lower()\n",
    "    x = [w for w in tokenizer().tokenize(x) if re.match(\"[A-Za-z]\", w) is not None]\n",
    "    x = \", \".join(x)\n",
    "    return x\n",
    "\n",
    "df[\"Genre\"].fillna(\"Unknown\", inplace=True)\n",
    "df[\"Genre\"] = df[\"Genre\"].apply(lambda x: genre_clean(x))\n",
    "\n",
    "df[\"Director\"].fillna(\"Uknown\", inplace=True)"
   ]
  },
  {
   "cell_type": "code",
   "execution_count": 4,
   "metadata": {},
   "outputs": [
    {
     "data": {
      "text/plain": [
       "drama               313\n",
       "comedy              209\n",
       "unknown              58\n",
       "western              37\n",
       "adventure            33\n",
       "romantic, comedy     30\n",
       "romance              30\n",
       "comedy, drama        27\n",
       "musical              26\n",
       "musical, comedy      25\n",
       "melodrama            18\n",
       "mystery              16\n",
       "crime                13\n",
       "crime, drama         12\n",
       "historical           10\n",
       "romance, drama        9\n",
       "horror                9\n",
       "swashbuckler          8\n",
       "war                   8\n",
       "comedy, short         8\n",
       "Name: Genre, dtype: int64"
      ]
     },
     "execution_count": 4,
     "metadata": {},
     "output_type": "execute_result"
    }
   ],
   "source": [
    "# Top 20 Genres by Frequency\n",
    "df[\"Genre\"].value_counts()[:20]"
   ]
  },
  {
   "cell_type": "code",
   "execution_count": 5,
   "metadata": {},
   "outputs": [],
   "source": [
    "# Lowercase, Stem, and Tokenize Plot\n",
    "def stem_tokenize(x, stemmer = PorterStemmer, word_tokenizer=TreebankWordTokenizer, \n",
    "                  sent_tokenizer=sent_tokenize):\n",
    "    \n",
    "    x = x.lower()\n",
    "    sent_tokens = [word_tokenizer().tokenize(s) for s in sent_tokenizer(x)]\n",
    "    stemmed_tokens = [[stemmer().stem(w) for w in s if re.match(\"[A-Za-z]\", w) is not None] \n",
    "                      for s in sent_tokens]\n",
    "    return stemmed_tokens"
   ]
  },
  {
   "cell_type": "code",
   "execution_count": 6,
   "metadata": {},
   "outputs": [],
   "source": [
    "df[\"Plot_tokens\"] = df[\"Plot\"].apply(lambda x: stem_tokenize(x))"
   ]
  },
  {
   "cell_type": "code",
   "execution_count": 9,
   "metadata": {},
   "outputs": [],
   "source": [
    "\"\"\"\n",
    "Create a list of tagged documents for Doc2Vec training, with each sentence treated as a document\n",
    "\n",
    "Each sentence tag contains a unique index for the subject movie, the director, genre, and origin/ethnicity.\n",
    "The model will find embeddings for all of these tag values\n",
    "\n",
    "\"\"\"\n",
    "tagged_docs = []\n",
    "\n",
    "for i, doc in enumerate(df[\"Plot_tokens\"]):\n",
    "    \n",
    "    genre, origin, director = df.iloc[i][[\"Genre\", \"Origin/Ethnicity\", \"Director\"]]\n",
    "    \n",
    "    movie_indx = \"movie index: %i\" %i\n",
    "    genre = \"genre: %s\" %genre.lower()\n",
    "    origin = \"origin: %s\" %origin\n",
    "    director = \"director: %s\" %director\n",
    "    \n",
    "    for w in doc:\n",
    "        if len(w) > 0:\n",
    "            tagged_docs.append(TaggedDocument(tags = [movie_indx, director, genre, origin], words = w))\n",
    "        else:\n",
    "            pass"
   ]
  },
  {
   "cell_type": "code",
   "execution_count": 14,
   "metadata": {},
   "outputs": [],
   "source": [
    "# Define model\n",
    "n_epochs = 50\n",
    "vec_size = 200\n",
    "alpha = 0.025\n",
    "\n",
    "model = Doc2Vec(vector_size = vec_size, \n",
    "                alpha = alpha,\n",
    "                min_count = 50, \n",
    "                dm=1)\n",
    "\n",
    "model.build_vocab(tagged_docs)"
   ]
  },
  {
   "cell_type": "code",
   "execution_count": 16,
   "metadata": {},
   "outputs": [
    {
     "name": "stdout",
     "output_type": "stream",
     "text": [
      "Iteration 0\n",
      "Completed in 2 seconds\n",
      "\n",
      "Iteration 1\n",
      "Completed in 2 seconds\n",
      "\n",
      "Iteration 2\n",
      "Completed in 2 seconds\n",
      "\n",
      "Iteration 3\n",
      "Completed in 2 seconds\n",
      "\n",
      "Iteration 4\n",
      "Completed in 2 seconds\n",
      "\n"
     ]
    }
   ],
   "source": [
    "# Train model\n",
    "for epoch in np.arange(n_epochs):\n",
    "    \n",
    "    t0 = time.time()\n",
    "    print(\"Iteration %i\" %epoch)\n",
    "    model.train(tagged_docs, total_examples= model.corpus_count,\n",
    "                epochs= model.epochs)\n",
    "    \n",
    "    model.alpha -= 0.0002\n",
    "    model.min_alpha = model.alpha\n",
    "    \n",
    "    shuffle(tagged_docs)\n",
    "    print(\"Completed in %i seconds\\n\" %(time.time() - t0))"
   ]
  },
  {
   "cell_type": "code",
   "execution_count": 17,
   "metadata": {},
   "outputs": [],
   "source": [
    "model.save(\"../models/doc2vec.model\")"
   ]
  }
 ],
 "metadata": {
  "kernelspec": {
   "display_name": "movies_venv",
   "language": "python",
   "name": "movies_venv"
  },
  "language_info": {
   "codemirror_mode": {
    "name": "ipython",
    "version": 3
   },
   "file_extension": ".py",
   "mimetype": "text/x-python",
   "name": "python",
   "nbconvert_exporter": "python",
   "pygments_lexer": "ipython3",
   "version": "3.6.0"
  }
 },
 "nbformat": 4,
 "nbformat_minor": 2
}
