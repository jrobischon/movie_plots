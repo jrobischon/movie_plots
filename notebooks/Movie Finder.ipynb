{
 "cells": [
  {
   "cell_type": "code",
   "execution_count": 1,
   "metadata": {},
   "outputs": [
    {
     "name": "stderr",
     "output_type": "stream",
     "text": [
      "C:\\Users\\jrobi\\Miniconda3\\envs\\nlp_venv\\lib\\site-packages\\gensim\\utils.py:1197: UserWarning: detected Windows; aliasing chunkize to chunkize_serial\n",
      "  warnings.warn(\"detected Windows; aliasing chunkize to chunkize_serial\")\n"
     ]
    }
   ],
   "source": [
    "import pandas as pd\n",
    "import numpy as np\n",
    "import pickle\n",
    "import matplotlib.pyplot as plt\n",
    "from gensim.summarization.bm25 import BM25\n",
    "from nltk.tokenize import TreebankWordTokenizer\n",
    "from nltk.stem import WordNetLemmatizer, PorterStemmer\n",
    "import re"
   ]
  },
  {
   "cell_type": "code",
   "execution_count": 2,
   "metadata": {},
   "outputs": [],
   "source": [
    "df = pd.read_csv(\"../data/wiki_movie_plots_deduped.csv\")"
   ]
  },
  {
   "cell_type": "code",
   "execution_count": 3,
   "metadata": {},
   "outputs": [],
   "source": [
    "# Lowercase, Stem, and Tokenize Plot\n",
    "def stem_tokenize(x, stemmer = PorterStemmer, word_tokenizer=TreebankWordTokenizer):   \n",
    "    x = x.lower()\n",
    "    x = re.sub('[^a-zA-z]', ' ', x)\n",
    "    tokens = word_tokenizer().tokenize(x)\n",
    "    return [stemmer().stem(w) for w in tokens]"
   ]
  },
  {
   "cell_type": "code",
   "execution_count": 4,
   "metadata": {},
   "outputs": [
    {
     "name": "stdout",
     "output_type": "stream",
     "text": [
      "Raw Text\n",
      "A bartender is working at a saloon, serving drinks to customers. After he fills a stereotypically Irish man's bucket with beer, Carrie Nation and her followers burst inside. They assault the Irish man, pulling his hat over his eyes and then dumping the beer over his head. The group then begin wrecking the bar, smashing the fixtures, mirrors, and breaking the cash register. The bartender then sprays seltzer water in Nation's face before a group of policemen appear and order everybody to leave.[1]\n",
      "\n",
      "\n",
      "Tokenized and Stemmed\n",
      "['a', 'bartend', 'is', 'work', 'at', 'a', 'saloon', 'serv', 'drink', 'to', 'custom', 'after', 'he', 'fill', 'a', 'stereotyp', 'irish', 'man', 's', 'bucket', 'with', 'beer', 'carri', 'nation', 'and', 'her', 'follow', 'burst', 'insid', 'they', 'assault', 'the', 'irish', 'man', 'pull', 'hi', 'hat', 'over', 'hi', 'eye', 'and', 'then', 'dump', 'the', 'beer', 'over', 'hi', 'head', 'the', 'group', 'then', 'begin', 'wreck', 'the', 'bar', 'smash', 'the', 'fixtur', 'mirror', 'and', 'break', 'the', 'cash', 'regist', 'the', 'bartend', 'then', 'spray', 'seltzer', 'water', 'in', 'nation', 's', 'face', 'befor', 'a', 'group', 'of', 'policemen', 'appear', 'and', 'order', 'everybodi', 'to', 'leav', '[', ']']\n"
     ]
    }
   ],
   "source": [
    "x = df[\"Plot\"].iloc[0]\n",
    "\n",
    "print(\"Raw Text\")\n",
    "print(x)\n",
    "print(\"\\n\")\n",
    "print(\"Tokenized and Stemmed\")\n",
    "print(stem_tokenize(x))"
   ]
  },
  {
   "cell_type": "code",
   "execution_count": 5,
   "metadata": {},
   "outputs": [],
   "source": [
    "# Tokenize entire corpus\n",
    "corpus = df[\"Plot\"].apply(stem_tokenize)"
   ]
  },
  {
   "cell_type": "code",
   "execution_count": 6,
   "metadata": {},
   "outputs": [],
   "source": [
    "# Output as pickle object\n",
    "pickle.dump(corpus, open(\"plot_tokens.pkl\", \"wb\"))"
   ]
  },
  {
   "cell_type": "code",
   "execution_count": 7,
   "metadata": {},
   "outputs": [],
   "source": [
    "class BM25_rank(BM25):\n",
    "    def __init__(self, corpus, tokenizer=stem_tokenize, titles=None):\n",
    "        super().__init__(corpus)\n",
    "        self.tokenizer = tokenizer\n",
    "        self.average_idf = sum(map(lambda k: float(self.idf[k]), self.idf.keys())) / len(self.idf.keys())\n",
    "        self.titles = titles\n",
    "        \n",
    "    def movie_query(self, query, top_n=10):\n",
    "        query_tokens = self.tokenizer(query)\n",
    "        rank_scores =  self.get_scores(query_tokens, self.average_idf)\n",
    "        \n",
    "        rank_scores = list(zip(np.arange(self.corpus_size), rank_scores))\n",
    "        \n",
    "        ranks_sorted = sorted(rank_scores, key=lambda x: x[1])[::-1]\n",
    "        \n",
    "        if self.titles is None:\n",
    "            return ranks_sorted[:top_n]\n",
    "        else:\n",
    "            return [(self.titles[x], y) for x, y in ranks_sorted[:top_n]]   "
   ]
  },
  {
   "cell_type": "code",
   "execution_count": 8,
   "metadata": {},
   "outputs": [],
   "source": [
    "bm25 = BM25_rank(corpus, titles = df[[\"Title\", \"Release Year\"]].apply(lambda x: \"%s (%s)\" %(x[0], x[1]), axis=1))"
   ]
  },
  {
   "cell_type": "code",
   "execution_count": 9,
   "metadata": {},
   "outputs": [],
   "source": [
    "pickle.dump(bm25, open(\"bm25_obj.pkl\", \"wb\"))"
   ]
  },
  {
   "cell_type": "code",
   "execution_count": 10,
   "metadata": {},
   "outputs": [
    {
     "data": {
      "text/plain": [
       "[('Doom (2005)', 41.471848025579355),\n",
       " ('Trog (1970)', 40.32975068181052),\n",
       " ('Storage 24 (2012)', 38.49302206015112),\n",
       " ('Deep Blue Sea (1999)', 38.1974182899188),\n",
       " ('Godzilla (1998)', 37.85995706040838),\n",
       " ('The Shape of Water (2017)', 37.78273190160721),\n",
       " ('Local Hero (1983)', 37.75685055258853),\n",
       " ('Zeus and Roxanne (1997)', 36.48649776514964),\n",
       " ('Happy Feet (2006)', 36.18962800887014),\n",
       " ('Happy Feet (2006)', 36.18962800887014)]"
      ]
     },
     "execution_count": 10,
     "metadata": {},
     "output_type": "execute_result"
    }
   ],
   "source": [
    "# Shape of Water\n",
    "bm25.movie_query(\"woman in a research facility falls in love with a fish creature\")"
   ]
  },
  {
   "cell_type": "code",
   "execution_count": 11,
   "metadata": {},
   "outputs": [
    {
     "data": {
      "text/plain": [
       "[('Goonies, The (1985)', 56.803992327928626),\n",
       " ('Animal Treasure Island (1971)', 56.6740520416034),\n",
       " (\"Doraemon: Nobita's Great Adventure in the South Seas (1998)\",\n",
       "  56.647181678541784),\n",
       " ('Detective Conan: Jolly Roger in the Deep Azure (2007)', 56.333854189167525),\n",
       " ('One Piece: The Movie (2000)', 56.29234553751853),\n",
       " ('Treasure Planet (2002)', 56.09902804385832),\n",
       " ('The Pirate Movie (1982)', 56.067366307676046),\n",
       " ('Muppet Treasure Island (1996)', 55.457005033825396),\n",
       " ('Cutthroat Island (1995)', 53.96883843697358),\n",
       " ('Double Crossbones (1951)', 53.86277318641123)]"
      ]
     },
     "execution_count": 11,
     "metadata": {},
     "output_type": "execute_result"
    }
   ],
   "source": [
    "# The Goonies\n",
    "bm25.movie_query(\"kids go on a quest to find a pirate's treasure in order to save their town\")"
   ]
  },
  {
   "cell_type": "code",
   "execution_count": 12,
   "metadata": {},
   "outputs": [
    {
     "data": {
      "text/plain": [
       "[('Vegas Vacation (1997)', 32.134485023689095),\n",
       " (\"National Lampoon's Vacation (1983)\", 31.708393827184203),\n",
       " ('The Court Jester (1956)', 29.88037447955937),\n",
       " ('Goodbye, My Fancy (1951)', 28.901828666468482),\n",
       " ('The Killer Shrews (1959)', 28.46725676123539),\n",
       " ('Success at Any Price (1934)', 24.30014821506127),\n",
       " (\"National Lampoon's Christmas Vacation (1989)\", 24.270342566383533),\n",
       " ('The Secret Life of Walter Mitty (1947)', 22.156401873304667),\n",
       " ('Now or Never (1921)', 21.998062183000982),\n",
       " ('Now or Never (1920)', 21.998062183000982)]"
      ]
     },
     "execution_count": 12,
     "metadata": {},
     "output_type": "execute_result"
    }
   ],
   "source": [
    "bm25.movie_query(\"the griswolds go on a vacation\")"
   ]
  },
  {
   "cell_type": "code",
   "execution_count": 13,
   "metadata": {},
   "outputs": [
    {
     "data": {
      "text/plain": [
       "[('The Shawshank Redemption (1994)', 46.69316416148913),\n",
       " ('Behind the News (1940)', 46.37903808420655),\n",
       " ('They Live by Night (1949)', 45.37402674282349),\n",
       " ('They Live by Night (1948)', 45.37402674282349),\n",
       " ('Disaster Zone: Volcano in New York (2006)', 44.77080771121156),\n",
       " ('Danger Within (1959)', 44.76878173020662),\n",
       " ('The Great Escape (1963)', 44.47327483907986),\n",
       " ('Convicted (1950)', 44.32509711018184),\n",
       " ('Murder in the First (1995)', 44.17752971238405),\n",
       " ('Muktodhara (2012)', 44.04501153878567)]"
      ]
     },
     "execution_count": 13,
     "metadata": {},
     "output_type": "execute_result"
    }
   ],
   "source": [
    "# Shawshank Redemption\n",
    "bm25.movie_query(\"man is wrongfully convicted of murder.  He goes to prison. Escapes in a tunnel\")"
   ]
  },
  {
   "cell_type": "code",
   "execution_count": 14,
   "metadata": {},
   "outputs": [
    {
     "data": {
      "text/plain": [
       "[('The Hunger Games (2012)', 27.467279904347578),\n",
       " ('Catching Fire, The Hunger Games:The Hunger Games: Catching Fire (2013)',\n",
       "  26.08755519847012),\n",
       " ('Where Are My Children? (1916)', 26.004233583375527),\n",
       " ('Subramaniapuram (2008)', 25.45166982886299),\n",
       " (\"Tantei Opera Milky Holmes the Movie: Milky Holmes' Counterattack (2016)\",\n",
       "  25.13291845688281),\n",
       " ('The Story of Qiu Ju (1992)', 24.752382910885768),\n",
       " ('Perumazhakkalam (2004)', 24.528254818851092),\n",
       " ('Ilavattam (2006)', 24.443887420861273),\n",
       " ('28 Weeks Later (2007)', 24.34382582673216),\n",
       " ('The Dark Tower (2017)', 24.265703004075235)]"
      ]
     },
     "execution_count": 14,
     "metadata": {},
     "output_type": "execute_result"
    }
   ],
   "source": [
    "# The Hunger Games\n",
    "bm25.movie_query(\"children from each district must fight to the death\")"
   ]
  },
  {
   "cell_type": "code",
   "execution_count": null,
   "metadata": {},
   "outputs": [],
   "source": []
  }
 ],
 "metadata": {
  "kernelspec": {
   "display_name": "NLP",
   "language": "python",
   "name": "nlp_venv"
  },
  "language_info": {
   "codemirror_mode": {
    "name": "ipython",
    "version": 3
   },
   "file_extension": ".py",
   "mimetype": "text/x-python",
   "name": "python",
   "nbconvert_exporter": "python",
   "pygments_lexer": "ipython3",
   "version": "3.7.0"
  }
 },
 "nbformat": 4,
 "nbformat_minor": 2
}
