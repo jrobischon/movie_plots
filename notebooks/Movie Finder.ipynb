{
 "cells": [
  {
   "cell_type": "code",
   "execution_count": 1,
   "metadata": {},
   "outputs": [
    {
     "name": "stderr",
     "output_type": "stream",
     "text": [
      "C:\\Users\\jrobi\\Miniconda3\\envs\\nlp_venv\\lib\\site-packages\\gensim\\utils.py:1197: UserWarning: detected Windows; aliasing chunkize to chunkize_serial\n",
      "  warnings.warn(\"detected Windows; aliasing chunkize to chunkize_serial\")\n"
     ]
    }
   ],
   "source": [
    "import pandas as pd\n",
    "import numpy as np\n",
    "import pickle\n",
    "import matplotlib.pyplot as plt\n",
    "from gensim.summarization.bm25 import BM25\n",
    "from nltk.tokenize import TreebankWordTokenizer\n",
    "from nltk.stem import WordNetLemmatizer, PorterStemmer\n",
    "import re"
   ]
  },
  {
   "cell_type": "code",
   "execution_count": 2,
   "metadata": {},
   "outputs": [],
   "source": [
    "df = pd.read_csv(\"../data/wiki_movie_plots_deduped.csv\")"
   ]
  },
  {
   "cell_type": "code",
   "execution_count": 3,
   "metadata": {},
   "outputs": [],
   "source": [
    "# Lowercase, Stem, and Tokenize Plot\n",
    "def stem_tokenize(x, stemmer = PorterStemmer, word_tokenizer=TreebankWordTokenizer):   \n",
    "    x = x.lower()\n",
    "    x = re.sub('[^a-zA-z]', ' ', x)\n",
    "    tokens = word_tokenizer().tokenize(x)\n",
    "    return [stemmer().stem(w) for w in tokens]"
   ]
  },
  {
   "cell_type": "code",
   "execution_count": 4,
   "metadata": {},
   "outputs": [
    {
     "name": "stdout",
     "output_type": "stream",
     "text": [
      "Raw Text\n",
      "A bartender is working at a saloon, serving drinks to customers. After he fills a stereotypically Irish man's bucket with beer, Carrie Nation and her followers burst inside. They assault the Irish man, pulling his hat over his eyes and then dumping the beer over his head. The group then begin wrecking the bar, smashing the fixtures, mirrors, and breaking the cash register. The bartender then sprays seltzer water in Nation's face before a group of policemen appear and order everybody to leave.[1]\n",
      "\n",
      "\n",
      "Tokenized and Stemmed\n",
      "['a', 'bartend', 'is', 'work', 'at', 'a', 'saloon', 'serv', 'drink', 'to', 'custom', 'after', 'he', 'fill', 'a', 'stereotyp', 'irish', 'man', 's', 'bucket', 'with', 'beer', 'carri', 'nation', 'and', 'her', 'follow', 'burst', 'insid', 'they', 'assault', 'the', 'irish', 'man', 'pull', 'hi', 'hat', 'over', 'hi', 'eye', 'and', 'then', 'dump', 'the', 'beer', 'over', 'hi', 'head', 'the', 'group', 'then', 'begin', 'wreck', 'the', 'bar', 'smash', 'the', 'fixtur', 'mirror', 'and', 'break', 'the', 'cash', 'regist', 'the', 'bartend', 'then', 'spray', 'seltzer', 'water', 'in', 'nation', 's', 'face', 'befor', 'a', 'group', 'of', 'policemen', 'appear', 'and', 'order', 'everybodi', 'to', 'leav', '[', ']']\n"
     ]
    }
   ],
   "source": [
    "x = df[\"Plot\"].iloc[0]\n",
    "\n",
    "print(\"Raw Text\")\n",
    "print(x)\n",
    "print(\"\\n\")\n",
    "print(\"Tokenized and Stemmed\")\n",
    "print(stem_tokenize(x))"
   ]
  },
  {
   "cell_type": "code",
   "execution_count": null,
   "metadata": {},
   "outputs": [],
   "source": [
    "# Tokenize entire corpus\n",
    "corpus = df[\"Plot\"].apply(stem_tokenize)"
   ]
  },
  {
   "cell_type": "code",
   "execution_count": null,
   "metadata": {},
   "outputs": [],
   "source": [
    "# Output as pickle object\n",
    "pickle.dump(corpus, open(\"plot_tokens.pkl\", \"wb\"))"
   ]
  },
  {
   "cell_type": "code",
   "execution_count": null,
   "metadata": {},
   "outputs": [],
   "source": [
    "class BM25_rank(BM25):\n",
    "    def __init__(self, corpus, tokenizer=stem_tokenize, titles=None):\n",
    "        super().__init__(corpus)\n",
    "        self.tokenizer = tokenizer\n",
    "        self.average_idf = sum(map(lambda k: float(self.idf[k]), self.idf.keys())) / len(self.idf.keys())\n",
    "        self.titles = titles\n",
    "        \n",
    "    def movie_query(self, query, top_n=10):\n",
    "        query_tokens = self.tokenizer(query)\n",
    "        rank_scores =  self.get_scores(query_tokens, self.average_idf)\n",
    "        \n",
    "        rank_scores = list(zip(np.arange(self.corpus_size), rank_scores))\n",
    "        \n",
    "        ranks_sorted = sorted(rank_scores, key=lambda x: x[1])[::-1]\n",
    "        \n",
    "        if self.titles is None:\n",
    "            return ranks_sorted[:top_n]\n",
    "        else:\n",
    "            return [(self.titles[x], y) for x, y in ranks_sorted[:top_n]]   "
   ]
  },
  {
   "cell_type": "code",
   "execution_count": null,
   "metadata": {},
   "outputs": [],
   "source": [
    "bm25 = BM25_rank(corpus, titles = df[[\"Title\", \"Release Year\"]].apply(lambda x: \"%s (%s)\" %(x[0], x[1]), axis=1))"
   ]
  },
  {
   "cell_type": "code",
   "execution_count": null,
   "metadata": {},
   "outputs": [],
   "source": [
    "pickle.dump(bm25, open(\"bm25_obj.pkl\", \"wb\"))"
   ]
  },
  {
   "cell_type": "code",
   "execution_count": null,
   "metadata": {},
   "outputs": [],
   "source": [
    "# Shape of Water\n",
    "bm25.movie_query(\"woman in a research facility falls in love with a fish creature\")"
   ]
  },
  {
   "cell_type": "code",
   "execution_count": null,
   "metadata": {},
   "outputs": [],
   "source": [
    "# The Goonies\n",
    "bm25.movie_query(\"kids go on a quest to find a pirate's treasure in order to save their town\")"
   ]
  },
  {
   "cell_type": "code",
   "execution_count": null,
   "metadata": {},
   "outputs": [],
   "source": [
    "bm25.movie_query(\"the griswolds go on a vacation\")"
   ]
  },
  {
   "cell_type": "code",
   "execution_count": null,
   "metadata": {},
   "outputs": [],
   "source": [
    "# Shawshank Redemption\n",
    "bm25.movie_query(\"man is wrongfully convicted of murder.  He goes to prison. Escapes in a tunnel\")"
   ]
  },
  {
   "cell_type": "code",
   "execution_count": null,
   "metadata": {},
   "outputs": [],
   "source": [
    "# The Hunger Games\n",
    "bm25.movie_query(\"children from each district must fight to the death\")"
   ]
  },
  {
   "cell_type": "code",
   "execution_count": null,
   "metadata": {},
   "outputs": [],
   "source": []
  }
 ],
 "metadata": {
  "kernelspec": {
   "display_name": "NLP",
   "language": "python",
   "name": "nlp_venv"
  },
  "language_info": {
   "codemirror_mode": {
    "name": "ipython",
    "version": 3
   },
   "file_extension": ".py",
   "mimetype": "text/x-python",
   "name": "python",
   "nbconvert_exporter": "python",
   "pygments_lexer": "ipython3",
   "version": "3.7.0"
  }
 },
 "nbformat": 4,
 "nbformat_minor": 2
}
