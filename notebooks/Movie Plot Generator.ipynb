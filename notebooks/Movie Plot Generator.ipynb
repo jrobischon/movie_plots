{
 "cells": [
  {
   "cell_type": "code",
   "execution_count": 1,
   "metadata": {},
   "outputs": [
    {
     "name": "stderr",
     "output_type": "stream",
     "text": [
      "Using TensorFlow backend.\n"
     ]
    }
   ],
   "source": [
    "import pandas as pd\n",
    "import numpy as np\n",
    "import matplotlib.pyplot as plt\n",
    "from keras.preprocessing.text import Tokenizer, one_hot\n",
    "from keras.preprocessing.sequence import pad_sequences\n",
    "from keras.layers import CuDNNLSTM, Dense, Flatten\n",
    "from keras.models import Sequential\n",
    "from keras import backend as K\n",
    "from random import shuffle\n",
    "\n",
    "%matplotlib inline"
   ]
  },
  {
   "cell_type": "code",
   "execution_count": 2,
   "metadata": {},
   "outputs": [],
   "source": [
    "df = pd.read_csv(\"../data/wiki_movie_plots_deduped.csv\")"
   ]
  },
  {
   "cell_type": "code",
   "execution_count": 3,
   "metadata": {},
   "outputs": [
    {
     "data": {
      "text/html": [
       "<div>\n",
       "<style scoped>\n",
       "    .dataframe tbody tr th:only-of-type {\n",
       "        vertical-align: middle;\n",
       "    }\n",
       "\n",
       "    .dataframe tbody tr th {\n",
       "        vertical-align: top;\n",
       "    }\n",
       "\n",
       "    .dataframe thead th {\n",
       "        text-align: right;\n",
       "    }\n",
       "</style>\n",
       "<table border=\"1\" class=\"dataframe\">\n",
       "  <thead>\n",
       "    <tr style=\"text-align: right;\">\n",
       "      <th></th>\n",
       "      <th>Release Year</th>\n",
       "      <th>Title</th>\n",
       "      <th>Origin/Ethnicity</th>\n",
       "      <th>Director</th>\n",
       "      <th>Cast</th>\n",
       "      <th>Genre</th>\n",
       "      <th>Wiki Page</th>\n",
       "      <th>Plot</th>\n",
       "    </tr>\n",
       "  </thead>\n",
       "  <tbody>\n",
       "    <tr>\n",
       "      <th>44</th>\n",
       "      <td>1912</td>\n",
       "      <td>Dr. Jekyll and Mr. Hyde</td>\n",
       "      <td>American</td>\n",
       "      <td>Lucius Henderson</td>\n",
       "      <td>James Cruze</td>\n",
       "      <td>horror</td>\n",
       "      <td>https://en.wikipedia.org/wiki/Dr._Jekyll_and_M...</td>\n",
       "      <td>White-haired Dr. Jekyll has secretly locked hi...</td>\n",
       "    </tr>\n",
       "    <tr>\n",
       "      <th>55</th>\n",
       "      <td>1913</td>\n",
       "      <td>Dr. Jekyll and Mr. Hyde</td>\n",
       "      <td>American</td>\n",
       "      <td>Herbert Brenon and Carl Laemmle</td>\n",
       "      <td>King Baggot</td>\n",
       "      <td>horror</td>\n",
       "      <td>https://en.wikipedia.org/wiki/Dr._Jekyll_and_M...</td>\n",
       "      <td>Dr. Henry Jekyll (King Baggot) sends a note to...</td>\n",
       "    </tr>\n",
       "    <tr>\n",
       "      <th>61</th>\n",
       "      <td>1914</td>\n",
       "      <td>The Avenging Conscience</td>\n",
       "      <td>American</td>\n",
       "      <td>D. W. Griffith</td>\n",
       "      <td>Henry B. Walthall, Blanche Sweet</td>\n",
       "      <td>drama, horror</td>\n",
       "      <td>https://en.wikipedia.org/wiki/The_Avenging_Con...</td>\n",
       "      <td>A young man (Henry B. Walthall) falls in love ...</td>\n",
       "    </tr>\n",
       "    <tr>\n",
       "      <th>318</th>\n",
       "      <td>1920</td>\n",
       "      <td>Dr. Jekyll and Mr. Hyde</td>\n",
       "      <td>American</td>\n",
       "      <td>John S. Robertson</td>\n",
       "      <td>John Barrymore</td>\n",
       "      <td>horror</td>\n",
       "      <td>https://en.wikipedia.org/wiki/Dr._Jekyll_and_M...</td>\n",
       "      <td>Henry Jekyll (John Barrymore) is a doctor of m...</td>\n",
       "    </tr>\n",
       "    <tr>\n",
       "      <th>422</th>\n",
       "      <td>1922</td>\n",
       "      <td>A Blind Bargain</td>\n",
       "      <td>American</td>\n",
       "      <td>Wallace Worsley</td>\n",
       "      <td>Lon Chaney, Raymond McKee</td>\n",
       "      <td>horror</td>\n",
       "      <td>https://en.wikipedia.org/wiki/A_Blind_Bargain</td>\n",
       "      <td>The film is a contemporary (1920s, though the ...</td>\n",
       "    </tr>\n",
       "  </tbody>\n",
       "</table>\n",
       "</div>"
      ],
      "text/plain": [
       "     Release Year                    Title Origin/Ethnicity  \\\n",
       "44           1912  Dr. Jekyll and Mr. Hyde         American   \n",
       "55           1913  Dr. Jekyll and Mr. Hyde         American   \n",
       "61           1914  The Avenging Conscience         American   \n",
       "318          1920  Dr. Jekyll and Mr. Hyde         American   \n",
       "422          1922          A Blind Bargain         American   \n",
       "\n",
       "                            Director                              Cast  \\\n",
       "44                  Lucius Henderson                       James Cruze   \n",
       "55   Herbert Brenon and Carl Laemmle                       King Baggot   \n",
       "61                    D. W. Griffith  Henry B. Walthall, Blanche Sweet   \n",
       "318                John S. Robertson                    John Barrymore   \n",
       "422                  Wallace Worsley         Lon Chaney, Raymond McKee   \n",
       "\n",
       "             Genre                                          Wiki Page  \\\n",
       "44          horror  https://en.wikipedia.org/wiki/Dr._Jekyll_and_M...   \n",
       "55          horror  https://en.wikipedia.org/wiki/Dr._Jekyll_and_M...   \n",
       "61   drama, horror  https://en.wikipedia.org/wiki/The_Avenging_Con...   \n",
       "318         horror  https://en.wikipedia.org/wiki/Dr._Jekyll_and_M...   \n",
       "422         horror      https://en.wikipedia.org/wiki/A_Blind_Bargain   \n",
       "\n",
       "                                                  Plot  \n",
       "44   White-haired Dr. Jekyll has secretly locked hi...  \n",
       "55   Dr. Henry Jekyll (King Baggot) sends a note to...  \n",
       "61   A young man (Henry B. Walthall) falls in love ...  \n",
       "318  Henry Jekyll (John Barrymore) is a doctor of m...  \n",
       "422  The film is a contemporary (1920s, though the ...  "
      ]
     },
     "execution_count": 3,
     "metadata": {},
     "output_type": "execute_result"
    }
   ],
   "source": [
    "# Keep only horror movies\n",
    "keep_idx = df[\"Genre\"].apply(lambda x: \"horror\" in x.lower())\n",
    "df = df[keep_idx].copy()\n",
    "\n",
    "df.head()"
   ]
  },
  {
   "cell_type": "code",
   "execution_count": 4,
   "metadata": {},
   "outputs": [],
   "source": [
    "# Create flag indicating movie will be used for validation (80/20 split)\n",
    "df[\"validate\"] = np.random.uniform(size=df.shape[0]) < 0.2"
   ]
  },
  {
   "cell_type": "code",
   "execution_count": 5,
   "metadata": {},
   "outputs": [],
   "source": [
    "# Fit character level tokenizer on plot descriptions\n",
    "tokenizer = Tokenizer(char_level=True)\n",
    "tokenizer.fit_on_texts(df[\"Plot\"])"
   ]
  },
  {
   "cell_type": "code",
   "execution_count": 6,
   "metadata": {},
   "outputs": [
    {
     "data": {
      "image/png": "[encoded data removed]",
      "text/plain": [
       "<Figure size 720x576 with 1 Axes>"
      ]
     },
     "metadata": {
      "needs_background": "light"
     },
     "output_type": "display_data"
    }
   ],
   "source": [
    "wc = tokenizer.word_counts\n",
    "wc = sorted(wc.items(), key = lambda x: x[1])\n",
    "chars, cnts = zip(*wc)\n",
    "\n",
    "ind = np.arange(50)\n",
    "\n",
    "plt.figure(figsize=(10, 8))\n",
    "plt.title(\"Top 50 Characters by Frequency\")\n",
    "plt.bar(ind, cnts[-50:][::-1])\n",
    "plt.xticks(ind, chars[-50:][::-1])\n",
    "plt.xlabel(\"Character\")\n",
    "plt.ylabel(\"Frequency\")\n",
    "plt.show()"
   ]
  },
  {
   "cell_type": "code",
   "execution_count": 7,
   "metadata": {},
   "outputs": [
    {
     "name": "stdout",
     "output_type": "stream",
     "text": [
      "First 20 Character Indices of 'Dr. Jekyll and Mr. Hyde'\n",
      "Raw Text: White-haired Dr. Jek\n",
      "Characters: ['w', 'h', 'i', 't', 'e', '-', 'h', 'a', 'i', 'r', 'e', 'd', ' ', 'd', 'r', '.', ' ', 'j', 'e', 'k']\n",
      "Indices: [20, 10, 6, 4, 2, 35, 10, 3, 6, 9, 2, 12, 1, 12, 9, 23, 1, 27, 2, 24]\n"
     ]
    }
   ],
   "source": [
    "# Convert each text to sequence of indices\n",
    "char_seq = tokenizer.texts_to_sequences(df[\"Plot\"])\n",
    "\n",
    "print(\"First 20 Character Indices of '%s'\" %df[\"Title\"].iloc[0])\n",
    "chars = char_seq[0][:20]\n",
    "print(\"Raw Text: %s\" %df[\"Plot\"].iloc[0][:20])\n",
    "print(\"Characters: %s\" %[tokenizer.index_word[x] for x in chars])\n",
    "print(\"Indices: %s\" %str(chars))"
   ]
  },
  {
   "cell_type": "code",
   "execution_count": 8,
   "metadata": {},
   "outputs": [],
   "source": [
    "WINDOW_SIZE = 50\n",
    "STEP_SIZE = 3\n",
    "\n",
    "train_data = []\n",
    "val_data = []\n",
    "\n",
    "# Iterate over all movies\n",
    "for i in range(len(char_seq)):\n",
    "    \n",
    "    seq = char_seq[i]\n",
    "    \n",
    "    # Iterate over character indices with specified step size\n",
    "    for j in range(0, len(seq), STEP_SIZE):\n",
    "        \n",
    "        # Get input sequence with length equal to window size\n",
    "        seq_in = seq[:j][-WINDOW_SIZE:]  \n",
    "        \n",
    "        # Get next character\n",
    "        next_char = seq[j]\n",
    "        \n",
    "        # Append as tuple to either train_data or val_data\n",
    "        if df[\"validate\"].iloc[i]:\n",
    "            val_data.append((seq_in, next_char))\n",
    "        else:\n",
    "            train_data.append((seq_in, next_char))\n",
    "        "
   ]
  },
  {
   "cell_type": "code",
   "execution_count": 9,
   "metadata": {},
   "outputs": [
    {
     "name": "stdout",
     "output_type": "stream",
     "text": [
      "Example Element from train_data\n",
      "([4, 8, 1, 3, 4, 4, 2, 7, 12, 1, 3, 1, 18, 3, 9, 4, 21, 1, 20, 6, 4, 10, 1, 21, 3, 5, 10, 23, 1, 4, 10, 2, 9, 2, 1, 5, 10, 2, 1, 6, 5, 1, 18, 8, 5, 5, 2, 5, 5, 2], 12)\n"
     ]
    }
   ],
   "source": [
    "print(\"Example Element from train_data\")\n",
    "i = np.random.choice(len(train_data))\n",
    "print(train_data[i])"
   ]
  },
  {
   "cell_type": "code",
   "execution_count": 10,
   "metadata": {},
   "outputs": [
    {
     "name": "stdout",
     "output_type": "stream",
     "text": [
      "Total Number of Movies: 1587\n",
      "Total Number of Movies (Training): 1264\n",
      "Total Number of Movies (Validate): 323\n",
      "Total Number of Characters: 4939318\n",
      "Number of Unique Characters: 177\n",
      "Number of Input Text Segments (Training): 1316214\n",
      "Number of Input Text Segments (Validation): 330763\n"
     ]
    }
   ],
   "source": [
    "n_movies = df.shape[0]\n",
    "n_validate = df[\"validate\"].sum()\n",
    "n_train = n_movies - n_validate\n",
    "\n",
    "n_docs = len(train_data)\n",
    "n_chars = max(tokenizer.index_word.keys())\n",
    "\n",
    "print(\"Total Number of Movies: %i\" % n_movies)\n",
    "print(\"Total Number of Movies (Training): %i\" % n_train)\n",
    "print(\"Total Number of Movies (Validate): %i\" % n_validate)\n",
    "print(\"Total Number of Characters: %i\" % sum(tokenizer.word_counts.values()))\n",
    "print(\"Number of Unique Characters: %i\" % n_chars)\n",
    "print(\"Number of Input Text Segments (Training): %i\" % len(train_data))\n",
    "print(\"Number of Input Text Segments (Validation): %i\" % len(val_data))"
   ]
  },
  {
   "cell_type": "code",
   "execution_count": 11,
   "metadata": {},
   "outputs": [],
   "source": [
    "def generator(samples, max_length, one_hot_length, batch_size=32):\n",
    "    \n",
    "    while True:\n",
    "        \n",
    "        # Shuffle samples for each epoch\n",
    "        shuffle(samples)\n",
    "        \n",
    "        # Iterate over all elements in samples \n",
    "        for i in range(0, len(samples), batch_size):\n",
    "            \n",
    "            # Subset batch of samples and unpack values\n",
    "            X, y = zip(*samples[i:i + batch_size])\n",
    "        \n",
    "            # Zero pad input sequences\n",
    "            X = pad_sequences(X, maxlen=max_length)\n",
    "            \n",
    "            # One hot encode input and output\n",
    "            X = X.reshape(-1, max_length, 1) == np.arange(one_hot_length).reshape(1, -1)\n",
    "            y = np.array(y).reshape(-1, 1) == np.arange(one_hot_length).reshape(1, -1)\n",
    "            \n",
    "            yield X, y"
   ]
  },
  {
   "cell_type": "code",
   "execution_count": 12,
   "metadata": {},
   "outputs": [],
   "source": [
    "BATCH_SIZE  = 1024\n",
    "train_gen = generator(train_data, max_length=WINDOW_SIZE, one_hot_length=n_chars, batch_size=BATCH_SIZE)\n",
    "validate_gen = generator(train_data, max_length=WINDOW_SIZE, one_hot_length=n_chars, batch_size=BATCH_SIZE)"
   ]
  },
  {
   "cell_type": "code",
   "execution_count": 13,
   "metadata": {},
   "outputs": [],
   "source": [
    "# Define model architecture\n",
    "model = Sequential()\n",
    "model.add(CuDNNLSTM(128, input_shape=(WINDOW_SIZE, n_chars)))\n",
    "model.add(Dense(n_chars, activation=\"softmax\"))"
   ]
  },
  {
   "cell_type": "code",
   "execution_count": 16,
   "metadata": {},
   "outputs": [],
   "source": [
    "model.compile(loss=\"categorical_crossentropy\", optimizer=\"RMSprop\")"
   ]
  },
  {
   "cell_type": "code",
   "execution_count": 17,
   "metadata": {},
   "outputs": [
    {
     "name": "stdout",
     "output_type": "stream",
     "text": [
      "Epoch 1/1\n",
      "1286/1286 [==============================] - 88s 68ms/step - loss: 2.4712 - val_loss: 2.2295\n"
     ]
    }
   ],
   "source": [
    "NUM_EPOCHS = 1\n",
    "train_steps = np.ceil(len(train_data) / BATCH_SIZE).astype(int)\n",
    "val_steps = np.ceil(len(val_data) / BATCH_SIZE).astype(int)\n",
    "\n",
    "history = model.fit_generator(train_gen, epochs=NUM_EPOCHS, \n",
    "                              steps_per_epoch=train_steps,\n",
    "                              validation_data=validate_gen, \n",
    "                              validation_steps=val_steps)"
   ]
  },
  {
   "cell_type": "code",
   "execution_count": 18,
   "metadata": {},
   "outputs": [],
   "source": [
    "model.save(\"../models/plot_generator.hd5\")"
   ]
  },
  {
   "cell_type": "code",
   "execution_count": 19,
   "metadata": {},
   "outputs": [
    {
     "data": {
      "image/png": "[encoded data removed]",
      "text/plain": [
       "<Figure size 576x432 with 1 Axes>"
      ]
     },
     "metadata": {
      "needs_background": "light"
     },
     "output_type": "display_data"
    }
   ],
   "source": [
    "plt.figure(figsize=(8, 6))\n",
    "plt.title(\"Training and Validation Losses\")\n",
    "plt.plot(history.history[\"loss\"], label=\"Training\")\n",
    "plt.plot(history.history[\"val_loss\"], label=\"Validation\")\n",
    "plt.legend(frameon=False, loc=2, bbox_to_anchor=(1,1))\n",
    "plt.xlabel(\"Epoch\")\n",
    "plt.ylabel(\"Loss\")\n",
    "plt.show()"
   ]
  },
  {
   "cell_type": "markdown",
   "metadata": {},
   "source": [
    "## Generating the Plots"
   ]
  },
  {
   "cell_type": "code",
   "execution_count": 71,
   "metadata": {},
   "outputs": [],
   "source": [
    "def smooth_preds(preds, k=1.0):\n",
    "    log_preds = np.log(preds) / k\n",
    "    exp_preds = np.exp(log_preds)\n",
    "    return exp_preds / exp_preds.sum()\n",
    "\n",
    "def sample_character(preds, smooth_factor, idx_to_char):\n",
    "\n",
    "    # Character indices\n",
    "    ind = np.arange(1, len(preds) + 1)\n",
    "    \n",
    "    # Smooth predictions\n",
    "    \n",
    "    # Sample from character indices\n",
    "    preds_smooth = smooth_preds(preds, smooth_factor)\n",
    "    samp_idx = np.random.choice(ind, p=preds_smooth)\n",
    "    \n",
    "    return idx_to_char[samp_idx]"
   ]
  },
  {
   "cell_type": "code",
   "execution_count": 106,
   "metadata": {},
   "outputs": [],
   "source": [
    "x = np.zeros(shape=(1, 50, 177))\n",
    "x[0, 49, 10] = 1\n",
    "p = model.predict_proba(x)"
   ]
  },
  {
   "cell_type": "code",
   "execution_count": 98,
   "metadata": {},
   "outputs": [
    {
     "name": "stderr",
     "output_type": "stream",
     "text": [
      "C:\\Users\\jrobi\\Miniconda3\\envs\\tf_venv\\lib\\site-packages\\ipykernel_launcher.py:2: RuntimeWarning: divide by zero encountered in log\n",
      "  \n",
      "C:\\Users\\jrobi\\Miniconda3\\envs\\tf_venv\\lib\\site-packages\\ipykernel_launcher.py:4: RuntimeWarning: invalid value encountered in true_divide\n",
      "  after removing the cwd from sys.path.\n",
      "C:\\Users\\jrobi\\Miniconda3\\envs\\tf_venv\\lib\\site-packages\\ipykernel_launcher.py:15: RuntimeWarning: invalid value encountered in less\n",
      "  from ipykernel import kernelapp as app\n"
     ]
    },
    {
     "data": {
      "text/plain": [
       "' '"
      ]
     },
     "execution_count": 98,
     "metadata": {},
     "output_type": "execute_result"
    }
   ],
   "source": [
    "sample_character(np.zeros(178), 1.0, idx_to_char=tokenizer.index_word)"
   ]
  },
  {
   "cell_type": "code",
   "execution_count": 107,
   "metadata": {
    "scrolled": true
   },
   "outputs": [
    {
     "data": {
      "text/plain": [
       "<BarContainer object of 177 artists>"
      ]
     },
     "execution_count": 107,
     "metadata": {},
     "output_type": "execute_result"
    },
    {
     "data": {
      "image/png": "[encoded data removed]",
      "text/plain": [
       "<Figure size 432x288 with 1 Axes>"
      ]
     },
     "metadata": {
      "needs_background": "light"
     },
     "output_type": "display_data"
    }
   ],
   "source": [
    "ind = np.arange(len(p))\n",
    "plt.bar(ind, p.flatten())"
   ]
  },
  {
   "cell_type": "code",
   "execution_count": 96,
   "metadata": {},
   "outputs": [
    {
     "data": {
      "text/plain": [
       "(1, 177)"
      ]
     },
     "execution_count": 96,
     "metadata": {},
     "output_type": "execute_result"
    }
   ],
   "source": [
    "p.shape"
   ]
  },
  {
   "cell_type": "code",
   "execution_count": null,
   "metadata": {},
   "outputs": [],
   "source": []
  }
 ],
 "metadata": {
  "kernelspec": {
   "display_name": "Tensorflow",
   "language": "python",
   "name": "tf_venv"
  },
  "language_info": {
   "codemirror_mode": {
    "name": "ipython",
    "version": 3
   },
   "file_extension": ".py",
   "mimetype": "text/x-python",
   "name": "python",
   "nbconvert_exporter": "python",
   "pygments_lexer": "ipython3",
   "version": "3.6.6"
  }
 },
 "nbformat": 4,
 "nbformat_minor": 2
}
